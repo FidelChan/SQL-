{
 "cells": [
  {
   "cell_type": "markdown",
   "metadata": {},
   "source": [
    "# SQL Assessment by Fidel Chan "
   ]
  },
  {
   "cell_type": "markdown",
   "metadata": {},
   "source": [
    "## Enabling SQLite for Jupyter Notebook"
   ]
  },
  {
   "cell_type": "code",
   "execution_count": 1,
   "metadata": {
    "collapsed": false
   },
   "outputs": [],
   "source": [
    "%load_ext sql"
   ]
  },
  {
   "cell_type": "code",
   "execution_count": 2,
   "metadata": {
    "collapsed": false
   },
   "outputs": [
    {
     "data": {
      "text/plain": [
       "'Connected: None@None'"
      ]
     },
     "execution_count": 2,
     "metadata": {},
     "output_type": "execute_result"
    }
   ],
   "source": [
    "%sql sqlite://"
   ]
  },
  {
   "cell_type": "markdown",
   "metadata": {},
   "source": [
    "# SQL Movie-Rating Query Exercises"
   ]
  },
  {
   "cell_type": "markdown",
   "metadata": {},
   "source": [
    "## Creating the Tables of Movie, Reviewer and Rating"
   ]
  },
  {
   "cell_type": "code",
   "execution_count": 3,
   "metadata": {
    "collapsed": false
   },
   "outputs": [
    {
     "name": "stdout",
     "output_type": "stream",
     "text": [
      "Done.\n",
      "Done.\n",
      "Done.\n",
      "Done.\n",
      "1 rows affected.\n",
      "1 rows affected.\n",
      "1 rows affected.\n",
      "1 rows affected.\n",
      "1 rows affected.\n",
      "1 rows affected.\n",
      "1 rows affected.\n",
      "1 rows affected.\n",
      "1 rows affected.\n",
      "1 rows affected.\n",
      "1 rows affected.\n",
      "1 rows affected.\n",
      "1 rows affected.\n",
      "1 rows affected.\n",
      "1 rows affected.\n",
      "1 rows affected.\n",
      "1 rows affected.\n",
      "1 rows affected.\n",
      "1 rows affected.\n",
      "1 rows affected.\n",
      "1 rows affected.\n",
      "1 rows affected.\n",
      "1 rows affected.\n",
      "1 rows affected.\n",
      "1 rows affected.\n",
      "1 rows affected.\n",
      "1 rows affected.\n",
      "1 rows affected.\n",
      "1 rows affected.\n"
     ]
    },
    {
     "data": {
      "text/plain": [
       "[]"
      ]
     },
     "execution_count": 3,
     "metadata": {},
     "output_type": "execute_result"
    }
   ],
   "source": [
    "%%sql\n",
    "/* Create the schema for our tables */\n",
    "create table Movie(mID int, title text, year int, director text);\n",
    "create table Reviewer(rID int, name text);\n",
    "create table Rating(rID int, mID int, stars int, ratingDate date);\n",
    "\n",
    "/* Populate the tables with our data */\n",
    "insert into Movie values(101, 'Gone with the Wind', 1939, 'Victor Fleming');\n",
    "insert into Movie values(102, 'Star Wars', 1977, 'George Lucas');\n",
    "insert into Movie values(103, 'The Sound of Music', 1965, 'Robert Wise');\n",
    "insert into Movie values(104, 'E.T.', 1982, 'Steven Spielberg');\n",
    "insert into Movie values(105, 'Titanic', 1997, 'James Cameron');\n",
    "insert into Movie values(106, 'Snow White', 1937, null);\n",
    "insert into Movie values(107, 'Avatar', 2009, 'James Cameron');\n",
    "insert into Movie values(108, 'Raiders of the Lost Ark', 1981, 'Steven Spielberg');\n",
    "\n",
    "insert into Reviewer values(201, 'Sarah Martinez');\n",
    "insert into Reviewer values(202, 'Daniel Lewis');\n",
    "insert into Reviewer values(203, 'Brittany Harris');\n",
    "insert into Reviewer values(204, 'Mike Anderson');\n",
    "insert into Reviewer values(205, 'Chris Jackson');\n",
    "insert into Reviewer values(206, 'Elizabeth Thomas');\n",
    "insert into Reviewer values(207, 'James Cameron');\n",
    "insert into Reviewer values(208, 'Ashley White');\n",
    "\n",
    "insert into Rating values(201, 101, 2, '2011-01-22');\n",
    "insert into Rating values(201, 101, 4, '2011-01-27');\n",
    "insert into Rating values(202, 106, 4, null);\n",
    "insert into Rating values(203, 103, 2, '2011-01-20');\n",
    "insert into Rating values(203, 108, 4, '2011-01-12');\n",
    "insert into Rating values(203, 108, 2, '2011-01-30');\n",
    "insert into Rating values(204, 101, 3, '2011-01-09');\n",
    "insert into Rating values(205, 103, 3, '2011-01-27');\n",
    "insert into Rating values(205, 104, 2, '2011-01-22');\n",
    "insert into Rating values(205, 108, 4, null);\n",
    "insert into Rating values(206, 107, 3, '2011-01-15');\n",
    "insert into Rating values(206, 106, 5, '2011-01-19');\n",
    "insert into Rating values(207, 107, 5, '2011-01-20');\n",
    "insert into Rating values(208, 104, 3, '2011-01-02');"
   ]
  },
  {
   "cell_type": "markdown",
   "metadata": {},
   "source": [
    "## Find the titles of all movies directed by Steven Spielberg. "
   ]
  },
  {
   "cell_type": "code",
   "execution_count": 4,
   "metadata": {
    "collapsed": false
   },
   "outputs": [
    {
     "name": "stdout",
     "output_type": "stream",
     "text": [
      "Done.\n"
     ]
    },
    {
     "data": {
      "text/html": [
       "<table>\n",
       "    <tr>\n",
       "        <th>title</th>\n",
       "    </tr>\n",
       "    <tr>\n",
       "        <td>E.T.</td>\n",
       "    </tr>\n",
       "    <tr>\n",
       "        <td>Raiders of the Lost Ark</td>\n",
       "    </tr>\n",
       "</table>"
      ],
      "text/plain": [
       "[(u'E.T.',), (u'Raiders of the Lost Ark',)]"
      ]
     },
     "execution_count": 4,
     "metadata": {},
     "output_type": "execute_result"
    }
   ],
   "source": [
    "%%sql\n",
    "SELECT title \n",
    "FROM Movie \n",
    "WHERE director = \"Steven Spielberg\";"
   ]
  },
  {
   "cell_type": "markdown",
   "metadata": {},
   "source": [
    "## Find all years that have a movie that received a rating of 4 or 5, and sort them in increasing order. "
   ]
  },
  {
   "cell_type": "code",
   "execution_count": 5,
   "metadata": {
    "collapsed": false
   },
   "outputs": [
    {
     "name": "stdout",
     "output_type": "stream",
     "text": [
      "Done.\n"
     ]
    },
    {
     "data": {
      "text/html": [
       "<table>\n",
       "    <tr>\n",
       "        <th>year</th>\n",
       "    </tr>\n",
       "    <tr>\n",
       "        <td>1937</td>\n",
       "    </tr>\n",
       "    <tr>\n",
       "        <td>1939</td>\n",
       "    </tr>\n",
       "    <tr>\n",
       "        <td>1981</td>\n",
       "    </tr>\n",
       "    <tr>\n",
       "        <td>2009</td>\n",
       "    </tr>\n",
       "</table>"
      ],
      "text/plain": [
       "[(1937,), (1939,), (1981,), (2009,)]"
      ]
     },
     "execution_count": 5,
     "metadata": {},
     "output_type": "execute_result"
    }
   ],
   "source": [
    "%%sql\n",
    "SELECT DISTINCT year\n",
    "FROM Movie\n",
    "INNER JOIN Rating on Movie.mID = Rating.mID\n",
    "WHERE stars >= 4\n",
    "ORDER BY year ASC; "
   ]
  },
  {
   "cell_type": "markdown",
   "metadata": {},
   "source": [
    "## Find the titles of all movies that have no ratings. "
   ]
  },
  {
   "cell_type": "code",
   "execution_count": 6,
   "metadata": {
    "collapsed": false
   },
   "outputs": [
    {
     "name": "stdout",
     "output_type": "stream",
     "text": [
      "Done.\n"
     ]
    },
    {
     "data": {
      "text/html": [
       "<table>\n",
       "    <tr>\n",
       "        <th>title</th>\n",
       "    </tr>\n",
       "    <tr>\n",
       "        <td>Star Wars</td>\n",
       "    </tr>\n",
       "    <tr>\n",
       "        <td>Titanic</td>\n",
       "    </tr>\n",
       "</table>"
      ],
      "text/plain": [
       "[(u'Star Wars',), (u'Titanic',)]"
      ]
     },
     "execution_count": 6,
     "metadata": {},
     "output_type": "execute_result"
    }
   ],
   "source": [
    "%%sql\n",
    "SELECT title\n",
    "FROM Movie\n",
    "LEFT JOIN Rating on Movie.mID = Rating.mID\n",
    "WHERE stars IS NULL;"
   ]
  },
  {
   "cell_type": "markdown",
   "metadata": {},
   "source": [
    "## Some reviewers didn't provide a date with their rating. Find the names of all reviewers who have ratings with a NULL value for the date."
   ]
  },
  {
   "cell_type": "code",
   "execution_count": 7,
   "metadata": {
    "collapsed": false
   },
   "outputs": [
    {
     "name": "stdout",
     "output_type": "stream",
     "text": [
      "Done.\n"
     ]
    },
    {
     "data": {
      "text/html": [
       "<table>\n",
       "    <tr>\n",
       "        <th>name</th>\n",
       "    </tr>\n",
       "    <tr>\n",
       "        <td>Daniel Lewis</td>\n",
       "    </tr>\n",
       "    <tr>\n",
       "        <td>Chris Jackson</td>\n",
       "    </tr>\n",
       "</table>"
      ],
      "text/plain": [
       "[(u'Daniel Lewis',), (u'Chris Jackson',)]"
      ]
     },
     "execution_count": 7,
     "metadata": {},
     "output_type": "execute_result"
    }
   ],
   "source": [
    "%%sql\n",
    "Select name\n",
    "FROM Reviewer\n",
    "INNER JOIN Rating on Reviewer.rID = Rating.rID\n",
    "WHERE ratingDate IS NULL;"
   ]
  },
  {
   "cell_type": "markdown",
   "metadata": {},
   "source": [
    "## Write a query to return the ratings data in a more readable format: reviewer name, movie title, stars, and ratingDate. Also, sort the data, first by reviewer name, then by movie title, and lastly by number of stars. "
   ]
  },
  {
   "cell_type": "code",
   "execution_count": 8,
   "metadata": {
    "collapsed": false
   },
   "outputs": [
    {
     "name": "stdout",
     "output_type": "stream",
     "text": [
      "Done.\n"
     ]
    },
    {
     "data": {
      "text/html": [
       "<table>\n",
       "    <tr>\n",
       "        <th>name</th>\n",
       "        <th>title</th>\n",
       "        <th>stars</th>\n",
       "        <th>ratingDate</th>\n",
       "    </tr>\n",
       "    <tr>\n",
       "        <td>Ashley White</td>\n",
       "        <td>E.T.</td>\n",
       "        <td>3</td>\n",
       "        <td>2011-01-02</td>\n",
       "    </tr>\n",
       "    <tr>\n",
       "        <td>Brittany Harris</td>\n",
       "        <td>Raiders of the Lost Ark</td>\n",
       "        <td>2</td>\n",
       "        <td>2011-01-30</td>\n",
       "    </tr>\n",
       "    <tr>\n",
       "        <td>Brittany Harris</td>\n",
       "        <td>Raiders of the Lost Ark</td>\n",
       "        <td>4</td>\n",
       "        <td>2011-01-12</td>\n",
       "    </tr>\n",
       "    <tr>\n",
       "        <td>Brittany Harris</td>\n",
       "        <td>The Sound of Music</td>\n",
       "        <td>2</td>\n",
       "        <td>2011-01-20</td>\n",
       "    </tr>\n",
       "    <tr>\n",
       "        <td>Chris Jackson</td>\n",
       "        <td>E.T.</td>\n",
       "        <td>2</td>\n",
       "        <td>2011-01-22</td>\n",
       "    </tr>\n",
       "    <tr>\n",
       "        <td>Chris Jackson</td>\n",
       "        <td>Raiders of the Lost Ark</td>\n",
       "        <td>4</td>\n",
       "        <td>None</td>\n",
       "    </tr>\n",
       "    <tr>\n",
       "        <td>Chris Jackson</td>\n",
       "        <td>The Sound of Music</td>\n",
       "        <td>3</td>\n",
       "        <td>2011-01-27</td>\n",
       "    </tr>\n",
       "    <tr>\n",
       "        <td>Daniel Lewis</td>\n",
       "        <td>Snow White</td>\n",
       "        <td>4</td>\n",
       "        <td>None</td>\n",
       "    </tr>\n",
       "    <tr>\n",
       "        <td>Elizabeth Thomas</td>\n",
       "        <td>Avatar</td>\n",
       "        <td>3</td>\n",
       "        <td>2011-01-15</td>\n",
       "    </tr>\n",
       "    <tr>\n",
       "        <td>Elizabeth Thomas</td>\n",
       "        <td>Snow White</td>\n",
       "        <td>5</td>\n",
       "        <td>2011-01-19</td>\n",
       "    </tr>\n",
       "    <tr>\n",
       "        <td>James Cameron</td>\n",
       "        <td>Avatar</td>\n",
       "        <td>5</td>\n",
       "        <td>2011-01-20</td>\n",
       "    </tr>\n",
       "    <tr>\n",
       "        <td>Mike Anderson</td>\n",
       "        <td>Gone with the Wind</td>\n",
       "        <td>3</td>\n",
       "        <td>2011-01-09</td>\n",
       "    </tr>\n",
       "    <tr>\n",
       "        <td>Sarah Martinez</td>\n",
       "        <td>Gone with the Wind</td>\n",
       "        <td>2</td>\n",
       "        <td>2011-01-22</td>\n",
       "    </tr>\n",
       "    <tr>\n",
       "        <td>Sarah Martinez</td>\n",
       "        <td>Gone with the Wind</td>\n",
       "        <td>4</td>\n",
       "        <td>2011-01-27</td>\n",
       "    </tr>\n",
       "</table>"
      ],
      "text/plain": [
       "[(u'Ashley White', u'E.T.', 3, u'2011-01-02'),\n",
       " (u'Brittany Harris', u'Raiders of the Lost Ark', 2, u'2011-01-30'),\n",
       " (u'Brittany Harris', u'Raiders of the Lost Ark', 4, u'2011-01-12'),\n",
       " (u'Brittany Harris', u'The Sound of Music', 2, u'2011-01-20'),\n",
       " (u'Chris Jackson', u'E.T.', 2, u'2011-01-22'),\n",
       " (u'Chris Jackson', u'Raiders of the Lost Ark', 4, None),\n",
       " (u'Chris Jackson', u'The Sound of Music', 3, u'2011-01-27'),\n",
       " (u'Daniel Lewis', u'Snow White', 4, None),\n",
       " (u'Elizabeth Thomas', u'Avatar', 3, u'2011-01-15'),\n",
       " (u'Elizabeth Thomas', u'Snow White', 5, u'2011-01-19'),\n",
       " (u'James Cameron', u'Avatar', 5, u'2011-01-20'),\n",
       " (u'Mike Anderson', u'Gone with the Wind', 3, u'2011-01-09'),\n",
       " (u'Sarah Martinez', u'Gone with the Wind', 2, u'2011-01-22'),\n",
       " (u'Sarah Martinez', u'Gone with the Wind', 4, u'2011-01-27')]"
      ]
     },
     "execution_count": 8,
     "metadata": {},
     "output_type": "execute_result"
    }
   ],
   "source": [
    "%%sql\n",
    "Select name, Movie.title, stars, ratingDate\n",
    "FROM Reviewer\n",
    "INNER JOIN Rating on Reviewer.rID = Rating.rID\n",
    "INNER JOIN Movie on Rating.mID = Movie.mID\n",
    "ORDER BY name, title, stars ASC;\n"
   ]
  },
  {
   "cell_type": "markdown",
   "metadata": {},
   "source": [
    "## For all cases where the same reviewer rated the same movie twice and gave it a higher rating the second time, return the reviewer's name and the title of the movie. "
   ]
  },
  {
   "cell_type": "code",
   "execution_count": 9,
   "metadata": {
    "collapsed": false
   },
   "outputs": [
    {
     "name": "stdout",
     "output_type": "stream",
     "text": [
      "Done.\n"
     ]
    },
    {
     "data": {
      "text/html": [
       "<table>\n",
       "    <tr>\n",
       "        <th>name</th>\n",
       "        <th>title</th>\n",
       "    </tr>\n",
       "    <tr>\n",
       "        <td>Sarah Martinez</td>\n",
       "        <td>Gone with the Wind</td>\n",
       "    </tr>\n",
       "</table>"
      ],
      "text/plain": [
       "[(u'Sarah Martinez', u'Gone with the Wind')]"
      ]
     },
     "execution_count": 9,
     "metadata": {},
     "output_type": "execute_result"
    }
   ],
   "source": [
    "%%sql\n",
    "Select name, Movie.title\n",
    "FROM Reviewer\n",
    "INNER JOIN Rating on Reviewer.rID = Rating.rID\n",
    "INNER JOIN Movie on Rating.mID = Movie.mID\n",
    "WHERE stars IN \n",
    "  (SELECT DISTINCT MAX(stars) AS stars\n",
    "   FROM Reviewer\n",
    "   INNER JOIN Rating on Reviewer.rID = Rating.rID\n",
    "   INNER JOIN Movie on Rating.mID = Movie.mID\n",
    "   GROUP BY name, Movie.title\n",
    "   HAVING COUNT(Movie.title) > 1)\n",
    "AND ratingDate IN\n",
    "  (SELECT DISTINCT MAX(ratingDate) AS ratingDate\n",
    "   FROM Reviewer\n",
    "   INNER JOIN Rating on Reviewer.rID = Rating.rID\n",
    "   INNER JOIN Movie on Rating.mID = Movie.mID\n",
    "   GROUP BY name, Movie.title\n",
    "   HAVING COUNT(Movie.title) > 1);"
   ]
  },
  {
   "cell_type": "markdown",
   "metadata": {},
   "source": [
    "## For each movie that has at least one rating, find the highest number of stars that movie received. Return the movie title and number of stars. Sort by movie title. "
   ]
  },
  {
   "cell_type": "code",
   "execution_count": 10,
   "metadata": {
    "collapsed": false
   },
   "outputs": [
    {
     "name": "stdout",
     "output_type": "stream",
     "text": [
      "Done.\n"
     ]
    },
    {
     "data": {
      "text/html": [
       "<table>\n",
       "    <tr>\n",
       "        <th>title</th>\n",
       "        <th>stars</th>\n",
       "    </tr>\n",
       "    <tr>\n",
       "        <td>Avatar</td>\n",
       "        <td>5</td>\n",
       "    </tr>\n",
       "    <tr>\n",
       "        <td>E.T.</td>\n",
       "        <td>3</td>\n",
       "    </tr>\n",
       "    <tr>\n",
       "        <td>Gone with the Wind</td>\n",
       "        <td>4</td>\n",
       "    </tr>\n",
       "    <tr>\n",
       "        <td>Raiders of the Lost Ark</td>\n",
       "        <td>4</td>\n",
       "    </tr>\n",
       "    <tr>\n",
       "        <td>Snow White</td>\n",
       "        <td>5</td>\n",
       "    </tr>\n",
       "    <tr>\n",
       "        <td>The Sound of Music</td>\n",
       "        <td>3</td>\n",
       "    </tr>\n",
       "</table>"
      ],
      "text/plain": [
       "[(u'Avatar', 5),\n",
       " (u'E.T.', 3),\n",
       " (u'Gone with the Wind', 4),\n",
       " (u'Raiders of the Lost Ark', 4),\n",
       " (u'Snow White', 5),\n",
       " (u'The Sound of Music', 3)]"
      ]
     },
     "execution_count": 10,
     "metadata": {},
     "output_type": "execute_result"
    }
   ],
   "source": [
    "%%sql\n",
    "SELECT Movie.title, MAX(stars) AS stars\n",
    "FROM Reviewer\n",
    "INNER JOIN Rating on Reviewer.rID = Rating.rID\n",
    "INNER JOIN Movie on Rating.mID = Movie.mID\n",
    "GROUP BY Movie.title\n",
    "ORDER BY Movie.title ASC;"
   ]
  },
  {
   "cell_type": "markdown",
   "metadata": {},
   "source": [
    "## For each movie, return the title and the 'rating spread', that is, the difference between highest and lowest ratings given to that movie. Sort by rating spread from highest to lowest, then by movie title. "
   ]
  },
  {
   "cell_type": "code",
   "execution_count": 11,
   "metadata": {
    "collapsed": false
   },
   "outputs": [
    {
     "name": "stdout",
     "output_type": "stream",
     "text": [
      "Done.\n"
     ]
    },
    {
     "data": {
      "text/html": [
       "<table>\n",
       "    <tr>\n",
       "        <th>title</th>\n",
       "        <th>stars</th>\n",
       "    </tr>\n",
       "    <tr>\n",
       "        <td>Avatar</td>\n",
       "        <td>2</td>\n",
       "    </tr>\n",
       "    <tr>\n",
       "        <td>Gone with the Wind</td>\n",
       "        <td>2</td>\n",
       "    </tr>\n",
       "    <tr>\n",
       "        <td>Raiders of the Lost Ark</td>\n",
       "        <td>2</td>\n",
       "    </tr>\n",
       "    <tr>\n",
       "        <td>E.T.</td>\n",
       "        <td>1</td>\n",
       "    </tr>\n",
       "    <tr>\n",
       "        <td>Snow White</td>\n",
       "        <td>1</td>\n",
       "    </tr>\n",
       "    <tr>\n",
       "        <td>The Sound of Music</td>\n",
       "        <td>1</td>\n",
       "    </tr>\n",
       "</table>"
      ],
      "text/plain": [
       "[(u'Avatar', 2),\n",
       " (u'Gone with the Wind', 2),\n",
       " (u'Raiders of the Lost Ark', 2),\n",
       " (u'E.T.', 1),\n",
       " (u'Snow White', 1),\n",
       " (u'The Sound of Music', 1)]"
      ]
     },
     "execution_count": 11,
     "metadata": {},
     "output_type": "execute_result"
    }
   ],
   "source": [
    "%%sql\n",
    "SELECT Movie.title, MAX(stars) - MIN(stars) AS stars\n",
    "FROM Reviewer\n",
    "INNER JOIN Rating on Reviewer.rID = Rating.rID\n",
    "INNER JOIN Movie on Rating.mID = Movie.mID\n",
    "GROUP BY Movie.title\n",
    "ORDER BY stars DESC;"
   ]
  },
  {
   "cell_type": "markdown",
   "metadata": {
    "collapsed": true
   },
   "source": [
    "## Find the difference between the average rating of movies released before 1980 and the average rating of movies released after 1980. (Make sure to calculate the average rating for each movie, then the average of those averages for movies before 1980 and movies after. Don't just calculate the overall average rating before and after 1980.)\n"
   ]
  },
  {
   "cell_type": "code",
   "execution_count": 12,
   "metadata": {
    "collapsed": false
   },
   "outputs": [
    {
     "name": "stdout",
     "output_type": "stream",
     "text": [
      "Done.\n"
     ]
    },
    {
     "data": {
      "text/html": [
       "<table>\n",
       "    <tr>\n",
       "        <th>AVG(starsbefore1980) - AVG(starsafter1980)</th>\n",
       "    </tr>\n",
       "    <tr>\n",
       "        <td>0.0555555555556</td>\n",
       "    </tr>\n",
       "</table>"
      ],
      "text/plain": [
       "[(0.0555555555555558,)]"
      ]
     },
     "execution_count": 12,
     "metadata": {},
     "output_type": "execute_result"
    }
   ],
   "source": [
    "%%sql\n",
    "SELECT AVG(starsbefore1980) - AVG(starsafter1980)\n",
    "FROM \n",
    "(\n",
    " SELECT title, AVG(stars) AS starsbefore1980, year\n",
    " FROM Movie\n",
    " INNER JOIN Rating on Movie.mID = Rating.mID\n",
    " GROUP BY title\n",
    " HAVING year < 1980\n",
    ")\n",
    ",\n",
    "(\n",
    " SELECT title, AVG(stars) AS starsafter1980, year\n",
    " FROM Movie\n",
    " INNER JOIN Rating on Movie.mID = Rating.mID\n",
    " GROUP BY title\n",
    " HAVING year >= 1980\n",
    ");"
   ]
  },
  {
   "cell_type": "markdown",
   "metadata": {},
   "source": [
    "# SQL Movie-Rating Modification Exercises"
   ]
  },
  {
   "cell_type": "markdown",
   "metadata": {},
   "source": [
    "## Add the reviewer Roger Ebert to your database, with an rID of 209. "
   ]
  },
  {
   "cell_type": "code",
   "execution_count": 13,
   "metadata": {
    "collapsed": false
   },
   "outputs": [
    {
     "name": "stdout",
     "output_type": "stream",
     "text": [
      "1 rows affected.\n"
     ]
    },
    {
     "data": {
      "text/plain": [
       "[]"
      ]
     },
     "execution_count": 13,
     "metadata": {},
     "output_type": "execute_result"
    }
   ],
   "source": [
    "%%sql\n",
    "insert into Reviewer values(209, 'Roger Ebert');"
   ]
  },
  {
   "cell_type": "markdown",
   "metadata": {},
   "source": [
    "## Insert 5-star ratings by James Cameron for all movies in the database. Leave the review date as NULL. "
   ]
  },
  {
   "cell_type": "code",
   "execution_count": 14,
   "metadata": {
    "collapsed": false
   },
   "outputs": [
    {
     "name": "stdout",
     "output_type": "stream",
     "text": [
      "8 rows affected.\n"
     ]
    },
    {
     "data": {
      "text/plain": [
       "[]"
      ]
     },
     "execution_count": 14,
     "metadata": {},
     "output_type": "execute_result"
    }
   ],
   "source": [
    "%%sql\n",
    "insert into rating\n",
    "\n",
    "SELECT 207, mID, 5 , null\n",
    "FROM Movie \n",
    "WHERE mID IN (SELECT mID FROM Movie);"
   ]
  },
  {
   "cell_type": "markdown",
   "metadata": {},
   "source": [
    "## For all movies that have an average rating of 4 stars or higher, add 25 to the release year. (Update the existing tuples; don't insert new tuples.) "
   ]
  },
  {
   "cell_type": "code",
   "execution_count": 15,
   "metadata": {
    "collapsed": false
   },
   "outputs": [
    {
     "name": "stdout",
     "output_type": "stream",
     "text": [
      "4 rows affected.\n"
     ]
    },
    {
     "data": {
      "text/plain": [
       "[]"
      ]
     },
     "execution_count": 15,
     "metadata": {},
     "output_type": "execute_result"
    }
   ],
   "source": [
    "%%sql\n",
    "update movie\n",
    "set year = year + 25\n",
    "where mID in (\n",
    "  select mID from (\n",
    "  select AVG(stars) as astar, mID from Rating\n",
    "  where mID=rating.mID\n",
    "  group by mID\n",
    "  having astar >=4)\n",
    ")"
   ]
  },
  {
   "cell_type": "markdown",
   "metadata": {},
   "source": [
    "## Remove all ratings where the movie's year is before 1970 or after 2000, and the rating is fewer than 4 stars. "
   ]
  },
  {
   "cell_type": "code",
   "execution_count": 16,
   "metadata": {
    "collapsed": false
   },
   "outputs": [
    {
     "name": "stdout",
     "output_type": "stream",
     "text": [
      "5 rows affected.\n"
     ]
    },
    {
     "data": {
      "text/plain": [
       "[]"
      ]
     },
     "execution_count": 16,
     "metadata": {},
     "output_type": "execute_result"
    }
   ],
   "source": [
    "%%sql\n",
    "delete from rating\n",
    "where mID in (select mID from movie where year <1970 or year > 2000)\n",
    "and stars < 4;"
   ]
  },
  {
   "cell_type": "markdown",
   "metadata": {},
   "source": [
    "# SQL Social-Network Query Exercises"
   ]
  },
  {
   "cell_type": "markdown",
   "metadata": {},
   "source": [
    "## Creating the Tables of Highschooler, Friend and Likes"
   ]
  },
  {
   "cell_type": "code",
   "execution_count": 17,
   "metadata": {
    "collapsed": false
   },
   "outputs": [
    {
     "name": "stdout",
     "output_type": "stream",
     "text": [
      "Done.\n",
      "Done.\n",
      "Done.\n",
      "Done.\n",
      "Done.\n",
      "Done.\n",
      "Done.\n",
      "1 rows affected.\n",
      "1 rows affected.\n",
      "1 rows affected.\n",
      "1 rows affected.\n",
      "1 rows affected.\n",
      "1 rows affected.\n",
      "1 rows affected.\n",
      "1 rows affected.\n",
      "1 rows affected.\n",
      "1 rows affected.\n",
      "1 rows affected.\n",
      "1 rows affected.\n",
      "1 rows affected.\n",
      "1 rows affected.\n",
      "1 rows affected.\n",
      "1 rows affected.\n",
      "1 rows affected.\n",
      "1 rows affected.\n",
      "1 rows affected.\n",
      "1 rows affected.\n",
      "1 rows affected.\n",
      "1 rows affected.\n",
      "1 rows affected.\n",
      "1 rows affected.\n",
      "1 rows affected.\n",
      "1 rows affected.\n",
      "1 rows affected.\n",
      "1 rows affected.\n",
      "1 rows affected.\n",
      "1 rows affected.\n",
      "1 rows affected.\n",
      "1 rows affected.\n",
      "1 rows affected.\n",
      "1 rows affected.\n",
      "1 rows affected.\n",
      "20 rows affected.\n",
      "1 rows affected.\n",
      "1 rows affected.\n",
      "1 rows affected.\n",
      "1 rows affected.\n",
      "1 rows affected.\n",
      "1 rows affected.\n",
      "1 rows affected.\n",
      "1 rows affected.\n",
      "1 rows affected.\n",
      "1 rows affected.\n"
     ]
    },
    {
     "data": {
      "text/plain": [
       "[]"
      ]
     },
     "execution_count": 17,
     "metadata": {},
     "output_type": "execute_result"
    }
   ],
   "source": [
    "%%sql\n",
    "/* Delete the tables if they already exist */\n",
    "drop table if exists Highschooler;\n",
    "drop table if exists Friend;\n",
    "drop table if exists Likes;\n",
    "\n",
    "/* Create the schema for our tables */\n",
    "create table Highschooler(ID int, name text, grade int);\n",
    "create table Friend(ID1 int, ID2 int);\n",
    "create table Likes(ID1 int, ID2 int);\n",
    "\n",
    "/* Populate the tables with our data */\n",
    "insert into Highschooler values (1510, 'Jordan', 9);\n",
    "insert into Highschooler values (1689, 'Gabriel', 9);\n",
    "insert into Highschooler values (1381, 'Tiffany', 9);\n",
    "insert into Highschooler values (1709, 'Cassandra', 9);\n",
    "insert into Highschooler values (1101, 'Haley', 10);\n",
    "insert into Highschooler values (1782, 'Andrew', 10);\n",
    "insert into Highschooler values (1468, 'Kris', 10);\n",
    "insert into Highschooler values (1641, 'Brittany', 10);\n",
    "insert into Highschooler values (1247, 'Alexis', 11);\n",
    "insert into Highschooler values (1316, 'Austin', 11);\n",
    "insert into Highschooler values (1911, 'Gabriel', 11);\n",
    "insert into Highschooler values (1501, 'Jessica', 11);\n",
    "insert into Highschooler values (1304, 'Jordan', 12);\n",
    "insert into Highschooler values (1025, 'John', 12);\n",
    "insert into Highschooler values (1934, 'Kyle', 12);\n",
    "insert into Highschooler values (1661, 'Logan', 12);\n",
    "\n",
    "insert into Friend values (1510, 1381);\n",
    "insert into Friend values (1510, 1689);\n",
    "insert into Friend values (1689, 1709);\n",
    "insert into Friend values (1381, 1247);\n",
    "insert into Friend values (1709, 1247);\n",
    "insert into Friend values (1689, 1782);\n",
    "insert into Friend values (1782, 1468);\n",
    "insert into Friend values (1782, 1316);\n",
    "insert into Friend values (1782, 1304);\n",
    "insert into Friend values (1468, 1101);\n",
    "insert into Friend values (1468, 1641);\n",
    "insert into Friend values (1101, 1641);\n",
    "insert into Friend values (1247, 1911);\n",
    "insert into Friend values (1247, 1501);\n",
    "insert into Friend values (1911, 1501);\n",
    "insert into Friend values (1501, 1934);\n",
    "insert into Friend values (1316, 1934);\n",
    "insert into Friend values (1934, 1304);\n",
    "insert into Friend values (1304, 1661);\n",
    "insert into Friend values (1661, 1025);\n",
    "insert into Friend select ID2, ID1 from Friend;\n",
    "\n",
    "insert into Likes values(1689, 1709);\n",
    "insert into Likes values(1709, 1689);\n",
    "insert into Likes values(1782, 1709);\n",
    "insert into Likes values(1911, 1247);\n",
    "insert into Likes values(1247, 1468);\n",
    "insert into Likes values(1641, 1468);\n",
    "insert into Likes values(1316, 1304);\n",
    "insert into Likes values(1501, 1934);\n",
    "insert into Likes values(1934, 1501);\n",
    "insert into Likes values(1025, 1101);"
   ]
  },
  {
   "cell_type": "markdown",
   "metadata": {},
   "source": [
    "## Find the names of all students who are friends with someone named Gabriel. "
   ]
  },
  {
   "cell_type": "code",
   "execution_count": 18,
   "metadata": {
    "collapsed": false
   },
   "outputs": [
    {
     "name": "stdout",
     "output_type": "stream",
     "text": [
      "Done.\n"
     ]
    },
    {
     "data": {
      "text/html": [
       "<table>\n",
       "    <tr>\n",
       "        <th>name</th>\n",
       "    </tr>\n",
       "    <tr>\n",
       "        <td>Jordan</td>\n",
       "    </tr>\n",
       "    <tr>\n",
       "        <td>Alexis</td>\n",
       "    </tr>\n",
       "    <tr>\n",
       "        <td>Cassandra</td>\n",
       "    </tr>\n",
       "    <tr>\n",
       "        <td>Andrew</td>\n",
       "    </tr>\n",
       "    <tr>\n",
       "        <td>Jessica</td>\n",
       "    </tr>\n",
       "</table>"
      ],
      "text/plain": [
       "[(u'Jordan',), (u'Alexis',), (u'Cassandra',), (u'Andrew',), (u'Jessica',)]"
      ]
     },
     "execution_count": 18,
     "metadata": {},
     "output_type": "execute_result"
    }
   ],
   "source": [
    "%%sql\n",
    "SELECT name\n",
    "FROM Highschooler\n",
    "INNER JOIN Friend on Highschooler.ID = Friend.ID1\n",
    "WHERE ID2 IN\n",
    "(\n",
    " SELECT ID\n",
    " FROM Highschooler\n",
    " WHERE name = 'Gabriel'\n",
    ")\n"
   ]
  },
  {
   "cell_type": "markdown",
   "metadata": {},
   "source": [
    "## For every student who likes someone 2 or more grades younger than themselves, return that student's name and grade, and the name and grade of the student they like. "
   ]
  },
  {
   "cell_type": "code",
   "execution_count": 19,
   "metadata": {
    "collapsed": false
   },
   "outputs": [
    {
     "name": "stdout",
     "output_type": "stream",
     "text": [
      "Done.\n"
     ]
    },
    {
     "data": {
      "text/html": [
       "<table>\n",
       "    <tr>\n",
       "        <th>name_id1</th>\n",
       "        <th>grade_id1</th>\n",
       "        <th>name</th>\n",
       "        <th>grade</th>\n",
       "    </tr>\n",
       "    <tr>\n",
       "        <td>John</td>\n",
       "        <td>12</td>\n",
       "        <td>Haley</td>\n",
       "        <td>10</td>\n",
       "    </tr>\n",
       "</table>"
      ],
      "text/plain": [
       "[(u'John', 12, u'Haley', 10)]"
      ]
     },
     "execution_count": 19,
     "metadata": {},
     "output_type": "execute_result"
    }
   ],
   "source": [
    "%%sql\n",
    "SELECT tb.name_id1, tb.grade_id1, Highschooler.name, Highschooler.grade\n",
    "FROM (\n",
    " SELECT name AS name_id1, grade AS grade_id1,ID2\n",
    " FROM Likes\n",
    " LEFT JOIN Highschooler ON Likes.ID1 = Highschooler.ID) AS tb\n",
    "LEFT JOIN Highschooler ON tb.ID2 = Highschooler.ID\n",
    "WHERE grade_id1 - grade >= 2;"
   ]
  },
  {
   "cell_type": "markdown",
   "metadata": {},
   "source": [
    "## For every pair of students who both like each other, return the name and grade of both students. Include each pair only once, with the two names in alphabetical order. "
   ]
  },
  {
   "cell_type": "code",
   "execution_count": 20,
   "metadata": {
    "collapsed": false
   },
   "outputs": [
    {
     "name": "stdout",
     "output_type": "stream",
     "text": [
      "Done.\n"
     ]
    },
    {
     "data": {
      "text/html": [
       "<table>\n",
       "    <tr>\n",
       "        <th>name_id1</th>\n",
       "        <th>grade_id1</th>\n",
       "        <th>name</th>\n",
       "        <th>grade</th>\n",
       "    </tr>\n",
       "    <tr>\n",
       "        <td>Cassandra</td>\n",
       "        <td>9</td>\n",
       "        <td>Gabriel</td>\n",
       "        <td>9</td>\n",
       "    </tr>\n",
       "    <tr>\n",
       "        <td>Kyle</td>\n",
       "        <td>12</td>\n",
       "        <td>Jessica</td>\n",
       "        <td>11</td>\n",
       "    </tr>\n",
       "</table>"
      ],
      "text/plain": [
       "[(u'Cassandra', 9, u'Gabriel', 9), (u'Kyle', 12, u'Jessica', 11)]"
      ]
     },
     "execution_count": 20,
     "metadata": {},
     "output_type": "execute_result"
    }
   ],
   "source": [
    "%%sql\n",
    "\n",
    "SELECT tb.name_id1, tb.grade_id1, Highschooler.name, Highschooler.grade\n",
    "FROM (\n",
    " SELECT name AS name_id1, grade AS grade_id1,ID2\n",
    " FROM (\n",
    "  SELECT ID1, ID2\n",
    "  FROM Likes L1\n",
    "  WHERE  ID1 > ID2\n",
    "  AND EXISTS(SELECT *\n",
    "                  FROM   Likes L2\n",
    "                  WHERE  L1.ID1 = L2.ID2\n",
    "                         AND L2.ID1 = L1.ID2)) AS Like\n",
    " LEFT JOIN Highschooler ON Like.ID1 = Highschooler.ID) AS tb\n",
    "LEFT JOIN Highschooler ON tb.ID2 = Highschooler.ID  "
   ]
  },
  {
   "cell_type": "code",
   "execution_count": 21,
   "metadata": {
    "collapsed": false
   },
   "outputs": [
    {
     "name": "stdout",
     "output_type": "stream",
     "text": [
      "Done.\n"
     ]
    },
    {
     "data": {
      "text/html": [
       "<table>\n",
       "    <tr>\n",
       "        <th>name_id1</th>\n",
       "        <th>grade_id1</th>\n",
       "        <th>name</th>\n",
       "        <th>grade</th>\n",
       "    </tr>\n",
       "    <tr>\n",
       "        <td>Cassandra</td>\n",
       "        <td>9</td>\n",
       "        <td>Gabriel</td>\n",
       "        <td>9</td>\n",
       "    </tr>\n",
       "    <tr>\n",
       "        <td>Jessica</td>\n",
       "        <td>11</td>\n",
       "        <td>Kyle</td>\n",
       "        <td>12</td>\n",
       "    </tr>\n",
       "</table>"
      ],
      "text/plain": [
       "[(u'Cassandra', 9, u'Gabriel', 9), (u'Jessica', 11, u'Kyle', 12)]"
      ]
     },
     "execution_count": 21,
     "metadata": {},
     "output_type": "execute_result"
    }
   ],
   "source": [
    "%%sql\n",
    "SELECT tb.name_id1, tb.grade_id1, Highschooler.name, Highschooler.grade\n",
    "FROM (\n",
    " SELECT name AS name_id1, grade AS grade_id1,ID2\n",
    " FROM (\n",
    "  Select L1.ID1, L1.ID2\n",
    "  from Likes L1\n",
    "  where exists (\n",
    "    select 1\n",
    "    from Likes L2\n",
    "    where L1.ID1 = L2.ID2 and L1.ID2 = L2.ID1)) AS Like\n",
    " LEFT JOIN Highschooler ON Like.ID1 = Highschooler.ID) AS tb\n",
    "LEFT JOIN Highschooler ON tb.ID2 = Highschooler.ID  \n",
    "WHERE name_id1 = 'Cassandra' or name_id1 = \"Jessica\"\n"
   ]
  },
  {
   "cell_type": "markdown",
   "metadata": {},
   "source": [
    "## Find all students who do not appear in the Likes table (as a student who likes or is liked) and return their names and grades. Sort by grade, then by name within each grade. "
   ]
  },
  {
   "cell_type": "code",
   "execution_count": 22,
   "metadata": {
    "collapsed": false
   },
   "outputs": [
    {
     "name": "stdout",
     "output_type": "stream",
     "text": [
      "Done.\n"
     ]
    },
    {
     "data": {
      "text/html": [
       "<table>\n",
       "    <tr>\n",
       "        <th>name</th>\n",
       "        <th>grade</th>\n",
       "    </tr>\n",
       "    <tr>\n",
       "        <td>Jordan</td>\n",
       "        <td>9</td>\n",
       "    </tr>\n",
       "    <tr>\n",
       "        <td>Tiffany</td>\n",
       "        <td>9</td>\n",
       "    </tr>\n",
       "    <tr>\n",
       "        <td>Logan</td>\n",
       "        <td>12</td>\n",
       "    </tr>\n",
       "</table>"
      ],
      "text/plain": [
       "[(u'Jordan', 9), (u'Tiffany', 9), (u'Logan', 12)]"
      ]
     },
     "execution_count": 22,
     "metadata": {},
     "output_type": "execute_result"
    }
   ],
   "source": [
    "%%sql\n",
    "SELECT name, grade\n",
    "FROM Highschooler\n",
    "WHERE ID NOT IN (\n",
    " SELECT ID1\n",
    " FROM Likes\n",
    " UNION \n",
    " SELECT ID2\n",
    " FROM Likes\n",
    ")\n"
   ]
  },
  {
   "cell_type": "markdown",
   "metadata": {},
   "source": [
    "## For every situation where student A likes student B, but we have no information about whom B likes (that is, B does not appear as an ID1 in the Likes table), return A and B's names and grades."
   ]
  },
  {
   "cell_type": "code",
   "execution_count": 23,
   "metadata": {
    "collapsed": false
   },
   "outputs": [
    {
     "name": "stdout",
     "output_type": "stream",
     "text": [
      "Done.\n"
     ]
    },
    {
     "data": {
      "text/html": [
       "<table>\n",
       "    <tr>\n",
       "        <th>name_id1</th>\n",
       "        <th>grade_id1</th>\n",
       "        <th>name</th>\n",
       "        <th>grade</th>\n",
       "    </tr>\n",
       "    <tr>\n",
       "        <td>Alexis</td>\n",
       "        <td>11</td>\n",
       "        <td>Kris</td>\n",
       "        <td>10</td>\n",
       "    </tr>\n",
       "    <tr>\n",
       "        <td>Brittany</td>\n",
       "        <td>10</td>\n",
       "        <td>Kris</td>\n",
       "        <td>10</td>\n",
       "    </tr>\n",
       "    <tr>\n",
       "        <td>Austin</td>\n",
       "        <td>11</td>\n",
       "        <td>Jordan</td>\n",
       "        <td>12</td>\n",
       "    </tr>\n",
       "    <tr>\n",
       "        <td>John</td>\n",
       "        <td>12</td>\n",
       "        <td>Haley</td>\n",
       "        <td>10</td>\n",
       "    </tr>\n",
       "</table>"
      ],
      "text/plain": [
       "[(u'Alexis', 11, u'Kris', 10),\n",
       " (u'Brittany', 10, u'Kris', 10),\n",
       " (u'Austin', 11, u'Jordan', 12),\n",
       " (u'John', 12, u'Haley', 10)]"
      ]
     },
     "execution_count": 23,
     "metadata": {},
     "output_type": "execute_result"
    }
   ],
   "source": [
    "%%sql\n",
    "SELECT tb.name_id1, tb.grade_id1, Highschooler.name, Highschooler.grade\n",
    "FROM (\n",
    " SELECT name AS name_id1, grade AS grade_id1,ID2\n",
    " FROM (\n",
    "  Select ID1, ID2\n",
    "  FROM Likes \n",
    "  WHERE ID2 NOT IN (\n",
    "    SELECT ID1\n",
    "    FROM Likes )) AS Like\n",
    " LEFT JOIN Highschooler ON Like.ID1 = Highschooler.ID) AS tb\n",
    "LEFT JOIN Highschooler ON tb.ID2 = Highschooler.ID "
   ]
  },
  {
   "cell_type": "markdown",
   "metadata": {},
   "source": [
    "## Find names and grades of students who only have friends in the same grade. Return the result sorted by grade, then by name within each grade. "
   ]
  },
  {
   "cell_type": "code",
   "execution_count": 24,
   "metadata": {
    "collapsed": false
   },
   "outputs": [
    {
     "name": "stdout",
     "output_type": "stream",
     "text": [
      "Done.\n"
     ]
    },
    {
     "data": {
      "text/html": [
       "<table>\n",
       "    <tr>\n",
       "        <th>name</th>\n",
       "        <th>grade</th>\n",
       "    </tr>\n",
       "    <tr>\n",
       "        <td>Jordan</td>\n",
       "        <td>9</td>\n",
       "    </tr>\n",
       "    <tr>\n",
       "        <td>Brittany</td>\n",
       "        <td>10</td>\n",
       "    </tr>\n",
       "    <tr>\n",
       "        <td>Haley</td>\n",
       "        <td>10</td>\n",
       "    </tr>\n",
       "    <tr>\n",
       "        <td>Kris</td>\n",
       "        <td>10</td>\n",
       "    </tr>\n",
       "    <tr>\n",
       "        <td>Gabriel</td>\n",
       "        <td>11</td>\n",
       "    </tr>\n",
       "    <tr>\n",
       "        <td>John</td>\n",
       "        <td>12</td>\n",
       "    </tr>\n",
       "    <tr>\n",
       "        <td>Logan</td>\n",
       "        <td>12</td>\n",
       "    </tr>\n",
       "</table>"
      ],
      "text/plain": [
       "[(u'Jordan', 9),\n",
       " (u'Brittany', 10),\n",
       " (u'Haley', 10),\n",
       " (u'Kris', 10),\n",
       " (u'Gabriel', 11),\n",
       " (u'John', 12),\n",
       " (u'Logan', 12)]"
      ]
     },
     "execution_count": 24,
     "metadata": {},
     "output_type": "execute_result"
    }
   ],
   "source": [
    "%%sql\n",
    "SELECT name, grade\n",
    "FROM Highschooler\n",
    "WHERE ID NOT IN ( \n",
    " SELECT ID1\n",
    " FROM (\n",
    "  SELECT name AS name_id1, grade AS grade_id1,ID1,ID2\n",
    "  FROM Friend\n",
    "  LEFT JOIN Highschooler ON Friend.ID1 = Highschooler.ID) AS tb\n",
    " LEFT JOIN Highschooler ON tb.ID2 = Highschooler.ID\n",
    " WHERE grade_id1 <> grade)\n",
    "ORDER BY grade, name ASC;\n"
   ]
  },
  {
   "cell_type": "markdown",
   "metadata": {},
   "source": [
    "## For each student A who likes a student B where the two are not friends, find if they have a friend C in common (who can introduce them!). For all such trios, return the name and grade of A, B, and C. "
   ]
  },
  {
   "cell_type": "code",
   "execution_count": 25,
   "metadata": {
    "collapsed": false
   },
   "outputs": [
    {
     "name": "stdout",
     "output_type": "stream",
     "text": [
      "Done.\n"
     ]
    },
    {
     "data": {
      "text/html": [
       "<table>\n",
       "    <tr>\n",
       "        <th>name</th>\n",
       "        <th>grade</th>\n",
       "        <th>name_1</th>\n",
       "        <th>grade_1</th>\n",
       "        <th>name_2</th>\n",
       "        <th>grade_2</th>\n",
       "    </tr>\n",
       "    <tr>\n",
       "        <td>Andrew</td>\n",
       "        <td>10</td>\n",
       "        <td>Cassandra</td>\n",
       "        <td>9</td>\n",
       "        <td>Gabriel</td>\n",
       "        <td>9</td>\n",
       "    </tr>\n",
       "    <tr>\n",
       "        <td>Austin</td>\n",
       "        <td>11</td>\n",
       "        <td>Jordan</td>\n",
       "        <td>12</td>\n",
       "        <td>Andrew</td>\n",
       "        <td>10</td>\n",
       "    </tr>\n",
       "    <tr>\n",
       "        <td>Austin</td>\n",
       "        <td>11</td>\n",
       "        <td>Jordan</td>\n",
       "        <td>12</td>\n",
       "        <td>Kyle</td>\n",
       "        <td>12</td>\n",
       "    </tr>\n",
       "</table>"
      ],
      "text/plain": [
       "[(u'Andrew', 10, u'Cassandra', 9, u'Gabriel', 9),\n",
       " (u'Austin', 11, u'Jordan', 12, u'Andrew', 10),\n",
       " (u'Austin', 11, u'Jordan', 12, u'Kyle', 12)]"
      ]
     },
     "execution_count": 25,
     "metadata": {},
     "output_type": "execute_result"
    }
   ],
   "source": [
    "%%sql\n",
    "SELECT distinct H1.Name, H1.Grade, H2.Name, H2.Grade, H3.name, H3.grade\n",
    "\n",
    "from Highschooler H1, Highschooler H2, Highschooler H3\n",
    "\n",
    "where H3.ID in (select Friend.ID2 from Friend where Friend.ID1 = H1.ID)\n",
    "and H3.ID in (select Friend.ID2 from Friend where Friend.ID1 = H2.ID)\n",
    "and H2.ID in (select Likes.ID2 from Likes where Likes.ID1 = H1.ID)\n",
    "and H2.ID not in (select Friend.ID2 from Friend where Friend.ID1 = H1.ID);"
   ]
  },
  {
   "cell_type": "markdown",
   "metadata": {},
   "source": [
    "## Find the difference between the number of students in the school and the number of different first names. "
   ]
  },
  {
   "cell_type": "code",
   "execution_count": 26,
   "metadata": {
    "collapsed": false
   },
   "outputs": [
    {
     "name": "stdout",
     "output_type": "stream",
     "text": [
      "Done.\n"
     ]
    },
    {
     "data": {
      "text/html": [
       "<table>\n",
       "    <tr>\n",
       "        <th>COUNT(*)- COUNT(DISTINCT(name))</th>\n",
       "    </tr>\n",
       "    <tr>\n",
       "        <td>2</td>\n",
       "    </tr>\n",
       "</table>"
      ],
      "text/plain": [
       "[(2,)]"
      ]
     },
     "execution_count": 26,
     "metadata": {},
     "output_type": "execute_result"
    }
   ],
   "source": [
    "%%sql\n",
    "SELECT COUNT(*)- COUNT(DISTINCT(name))\n",
    "FROM Highschooler;"
   ]
  },
  {
   "cell_type": "markdown",
   "metadata": {},
   "source": [
    "## Find the name and grade of all students who are liked by more than one other student. "
   ]
  },
  {
   "cell_type": "code",
   "execution_count": 27,
   "metadata": {
    "collapsed": false
   },
   "outputs": [
    {
     "name": "stdout",
     "output_type": "stream",
     "text": [
      "Done.\n"
     ]
    },
    {
     "data": {
      "text/html": [
       "<table>\n",
       "    <tr>\n",
       "        <th>name</th>\n",
       "        <th>grade</th>\n",
       "    </tr>\n",
       "    <tr>\n",
       "        <td>Cassandra</td>\n",
       "        <td>9</td>\n",
       "    </tr>\n",
       "    <tr>\n",
       "        <td>Kris</td>\n",
       "        <td>10</td>\n",
       "    </tr>\n",
       "</table>"
      ],
      "text/plain": [
       "[(u'Cassandra', 9), (u'Kris', 10)]"
      ]
     },
     "execution_count": 27,
     "metadata": {},
     "output_type": "execute_result"
    }
   ],
   "source": [
    "%%sql\n",
    "SELECT name, grade\n",
    "FROM Highschooler\n",
    "WHERE ID IN (\n",
    " SELECT ID2\n",
    " FROM Likes\n",
    " GROUP BY ID2\n",
    " HAVING COUNT(*) > 1);\n"
   ]
  },
  {
   "cell_type": "markdown",
   "metadata": {},
   "source": [
    "# SQL Social-Network Modification Exercises"
   ]
  },
  {
   "cell_type": "markdown",
   "metadata": {},
   "source": [
    "## It's time for the seniors to graduate. Remove all 12th graders from Highschooler. "
   ]
  },
  {
   "cell_type": "code",
   "execution_count": 28,
   "metadata": {
    "collapsed": false
   },
   "outputs": [
    {
     "name": "stdout",
     "output_type": "stream",
     "text": [
      "4 rows affected.\n"
     ]
    },
    {
     "data": {
      "text/plain": [
       "[]"
      ]
     },
     "execution_count": 28,
     "metadata": {},
     "output_type": "execute_result"
    }
   ],
   "source": [
    "%%sql\n",
    "delete\n",
    "FROM Highschooler\n",
    "WHERE grade = 12"
   ]
  },
  {
   "cell_type": "markdown",
   "metadata": {},
   "source": [
    "## If two students A and B are friends, and A likes B but not vice-versa, remove the Likes tuple. "
   ]
  },
  {
   "cell_type": "code",
   "execution_count": 29,
   "metadata": {
    "collapsed": false
   },
   "outputs": [
    {
     "name": "stdout",
     "output_type": "stream",
     "text": [
      "2 rows affected.\n"
     ]
    },
    {
     "data": {
      "text/plain": [
       "[]"
      ]
     },
     "execution_count": 29,
     "metadata": {},
     "output_type": "execute_result"
    }
   ],
   "source": [
    "%%sql\n",
    "DELETE FROM likes\n",
    "where exists (select 1 from friend where friend.id1 = likes.id1 and friend.id2=likes.id2)\n",
    "and not exists (select 1 from likes as L2 where L2.id1 = likes.id2 and L2.id2=likes.id1)"
   ]
  },
  {
   "cell_type": "markdown",
   "metadata": {},
   "source": [
    "## For all cases where A is friends with B, and B is friends with C, add a new friendship for the pair A and C. Do not add duplicate friendships, friendships that already exist, or friendships with oneself. (This one is a bit challenging; congratulations if you get it right.) "
   ]
  },
  {
   "cell_type": "code",
   "execution_count": 30,
   "metadata": {
    "collapsed": false
   },
   "outputs": [
    {
     "name": "stdout",
     "output_type": "stream",
     "text": [
      "54 rows affected.\n"
     ]
    },
    {
     "data": {
      "text/plain": [
       "[]"
      ]
     },
     "execution_count": 30,
     "metadata": {},
     "output_type": "execute_result"
    }
   ],
   "source": [
    "%%sql\n",
    "insert into Friend (id1, id2)\n",
    "select DISTINCT i1, i2 from (\n",
    "  select F1.id1 as i1, F2.id2 as i2\n",
    "  from friend F1  join friend F2 on F1.id2 = F2.id1\n",
    ") as t\n",
    "where t.i1 != t.i2\n",
    "and not exists (select 1 from Friend where id1=i1 and id2=i2)\n",
    "and not exists (select 1 from Friend where id2=i1 and id1=i2)"
   ]
  }
 ],
 "metadata": {
  "kernelspec": {
   "display_name": "Python 2",
   "language": "python",
   "name": "python2"
  },
  "language_info": {
   "codemirror_mode": {
    "name": "ipython",
    "version": 2
   },
   "file_extension": ".py",
   "mimetype": "text/x-python",
   "name": "python",
   "nbconvert_exporter": "python",
   "pygments_lexer": "ipython2",
   "version": "2.7.13"
  }
 },
 "nbformat": 4,
 "nbformat_minor": 2
}
